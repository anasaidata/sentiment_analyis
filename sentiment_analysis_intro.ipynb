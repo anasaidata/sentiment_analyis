{
 "cells": [
  {
   "cell_type": "markdown",
   "metadata": {},
   "source": [
    "# Sentiment analysis | Depp vs Heard"
   ]
  },
  {
   "cell_type": "markdown",
   "metadata": {},
   "source": [
    "## Data extraction\n",
    "\n",
    "Twitter extraction by keywords"
   ]
  },
  {
   "cell_type": "markdown",
   "metadata": {},
   "source": [
    "### Imports"
   ]
  },
  {
   "cell_type": "code",
   "execution_count": 355,
   "metadata": {},
   "outputs": [
    {
     "name": "stderr",
     "output_type": "stream",
     "text": [
      "[nltk_data] Downloading package vader_lexicon to\n",
      "[nltk_data]     /Users/gonzalozabala/nltk_data...\n",
      "[nltk_data]   Package vader_lexicon is already up-to-date!\n"
     ]
    },
    {
     "data": {
      "text/plain": [
       "True"
      ]
     },
     "execution_count": 355,
     "metadata": {},
     "output_type": "execute_result"
    }
   ],
   "source": [
    "import tweepy as tw\n",
    "import pandas as pd\n",
    "import nltk\n",
    "from nltk.sentiment.vader import SentimentIntensityAnalyzer\n",
    "from textblob import TextBlob\n",
    "\n",
    "from wordcloud import WordCloud\n",
    "import matplotlib.pyplot as plt\n",
    "\n",
    "from nltk.corpus import stopwords\n",
    "\n",
    "nltk.download('stopwords')\n",
    "nltk.download('vader_lexicon')"
   ]
  },
  {
   "cell_type": "markdown",
   "metadata": {},
   "source": [
    "### Twitter authentificathion"
   ]
  },
  {
   "cell_type": "code",
   "execution_count": 356,
   "metadata": {},
   "outputs": [],
   "source": [
    "ACCESS_KEY = \"1528407397403959296-SiXEMki1ykYG1qg3WPht56Dh1nxvfm\"\n",
    "ACCESS_SECRET = \"6BBykwX8DUyDKYpQ46pT7RfPMBM3E7muynpOpYSjgqPwo\"\n",
    "CONSUMER_KEY= 'fVDe8jYU1oWQKkOZlVHd17DDR'\n",
    "CONSUMER_SECRET= '3EPEAxlpGl48QYl2iNBk6HlbrjONLWQ5qoDY61uVReLeHgbX6V'\n",
    "BEARER = \"AAAAAAAAAAAAAAAAAAAAADTKdAEAAAAAEygerXyhYaLCb0wzIuc7wsOak7w%3DJ6QKl3DzawKIUGdQaArG8yovhy8LpUr0MTgovJQ01naJ5b2BRZ\""
   ]
  },
  {
   "cell_type": "code",
   "execution_count": 357,
   "metadata": {},
   "outputs": [],
   "source": [
    "client = tw.Client(bearer_token=BEARER)"
   ]
  },
  {
   "cell_type": "markdown",
   "metadata": {},
   "source": [
    "### Tweets extraction"
   ]
  },
  {
   "cell_type": "code",
   "execution_count": 358,
   "metadata": {},
   "outputs": [],
   "source": [
    "# Get tweets that contain the hashtag #petday\n",
    "# -is:retweet means I don't want retweets\n",
    "# lang:en is asking for the tweets to be in english\n",
    "tag = 'humpty'\n",
    "query = '#'+ tag +' -is:retweet lang:en'\n",
    "tweets = client.search_recent_tweets(query=query, tweet_fields=['created_at'], max_results=100)"
   ]
  },
  {
   "cell_type": "code",
   "execution_count": 359,
   "metadata": {},
   "outputs": [
    {
     "data": {
      "text/html": [
       "<div>\n",
       "<style scoped>\n",
       "    .dataframe tbody tr th:only-of-type {\n",
       "        vertical-align: middle;\n",
       "    }\n",
       "\n",
       "    .dataframe tbody tr th {\n",
       "        vertical-align: top;\n",
       "    }\n",
       "\n",
       "    .dataframe thead th {\n",
       "        text-align: right;\n",
       "    }\n",
       "</style>\n",
       "<table border=\"1\" class=\"dataframe\">\n",
       "  <thead>\n",
       "    <tr style=\"text-align: right;\">\n",
       "      <th></th>\n",
       "      <th>created_at</th>\n",
       "      <th>id</th>\n",
       "      <th>text</th>\n",
       "    </tr>\n",
       "  </thead>\n",
       "  <tbody>\n",
       "    <tr>\n",
       "      <th>0</th>\n",
       "      <td>2022-05-31 18:38:41+00:00</td>\n",
       "      <td>1531706748779651072</td>\n",
       "      <td>@DefectedRecords @richardvission he’s the reason I got into djing. #humpty</td>\n",
       "    </tr>\n",
       "    <tr>\n",
       "      <th>1</th>\n",
       "      <td>2022-05-30 18:09:02+00:00</td>\n",
       "      <td>1531336899389964288</td>\n",
       "      <td>#Humpty The #Fraud by #LTCartoons #Hilarious  #humor #cartoon #cartoons #comic #comics @ricklondon #humptydumpty #genealogy #heritage #ancestry #eggs #egg #funny #weird #strange #bizarre https://t.co/rWLSgrg0oA</td>\n",
       "    </tr>\n",
       "    <tr>\n",
       "      <th>2</th>\n",
       "      <td>2022-05-30 15:49:02+00:00</td>\n",
       "      <td>1531301666154242051</td>\n",
       "      <td>#Humpty The #Fraud by #LTCartoons #Hilarious  #humor #cartoon #cartoons #comic #comics @ricklondon #humptydumpty #genealogy #heritage #ancestry #eggs #egg #funny #weird #strange #bizarre https://t.co/kgNVUdyi6h</td>\n",
       "    </tr>\n",
       "    <tr>\n",
       "      <th>3</th>\n",
       "      <td>2022-05-28 21:51:01+00:00</td>\n",
       "      <td>1530667990349500416</td>\n",
       "      <td>#Humpty The #Fraud by #LTCartoons #Hilarious  #humor #cartoon #cartoons #comic #comics @ricklondon #humptydumpty #genealogy #heritage #ancestry #eggs #egg #funny #weird #strange #bizarre https://t.co/HIpHnFwQCP</td>\n",
       "    </tr>\n",
       "    <tr>\n",
       "      <th>4</th>\n",
       "      <td>2022-05-26 00:27:01+00:00</td>\n",
       "      <td>1529620085387698179</td>\n",
       "      <td>#Humpty The #Fraud by #LTCartoons #Hilarious  #humor #cartoon #cartoons #comic #comics @ricklondon #humptydumpty #genealogy #heritage #ancestry #eggs #egg #funny #weird #strange #bizarre https://t.co/Mgp62k6s0U</td>\n",
       "    </tr>\n",
       "  </tbody>\n",
       "</table>\n",
       "</div>"
      ],
      "text/plain": [
       "                 created_at                   id  \\\n",
       "0 2022-05-31 18:38:41+00:00  1531706748779651072   \n",
       "1 2022-05-30 18:09:02+00:00  1531336899389964288   \n",
       "2 2022-05-30 15:49:02+00:00  1531301666154242051   \n",
       "3 2022-05-28 21:51:01+00:00  1530667990349500416   \n",
       "4 2022-05-26 00:27:01+00:00  1529620085387698179   \n",
       "\n",
       "                                                                                                                                                                                                                 text  \n",
       "0                                                                                                                                          @DefectedRecords @richardvission he’s the reason I got into djing. #humpty  \n",
       "1  #Humpty The #Fraud by #LTCartoons #Hilarious  #humor #cartoon #cartoons #comic #comics @ricklondon #humptydumpty #genealogy #heritage #ancestry #eggs #egg #funny #weird #strange #bizarre https://t.co/rWLSgrg0oA  \n",
       "2  #Humpty The #Fraud by #LTCartoons #Hilarious  #humor #cartoon #cartoons #comic #comics @ricklondon #humptydumpty #genealogy #heritage #ancestry #eggs #egg #funny #weird #strange #bizarre https://t.co/kgNVUdyi6h  \n",
       "3  #Humpty The #Fraud by #LTCartoons #Hilarious  #humor #cartoon #cartoons #comic #comics @ricklondon #humptydumpty #genealogy #heritage #ancestry #eggs #egg #funny #weird #strange #bizarre https://t.co/HIpHnFwQCP  \n",
       "4  #Humpty The #Fraud by #LTCartoons #Hilarious  #humor #cartoon #cartoons #comic #comics @ricklondon #humptydumpty #genealogy #heritage #ancestry #eggs #egg #funny #weird #strange #bizarre https://t.co/Mgp62k6s0U  "
      ]
     },
     "execution_count": 359,
     "metadata": {},
     "output_type": "execute_result"
    }
   ],
   "source": [
    "depp_tweets = pd.DataFrame(tweets.data)\n",
    "depp_tweets"
   ]
  },
  {
   "cell_type": "markdown",
   "metadata": {},
   "source": [
    "### Data pre-processing"
   ]
  },
  {
   "cell_type": "markdown",
   "metadata": {},
   "source": [
    "Remove tags, links, rt, break lines, and puntuactions\n",
    "\n",
    "https://towardsdatascience.com/selenium-tweepy-to-scrap-tweets-from-tweeter-and-analysing-sentiments-1804db3478ac"
   ]
  },
  {
   "cell_type": "code",
   "execution_count": 360,
   "metadata": {},
   "outputs": [
    {
     "data": {
      "text/plain": [
       "['\\\\B@\\\\w+', 'RT', '\\\\S*https?:\\\\S*', '\\n', '[^\\\\w\\\\s]']"
      ]
     },
     "execution_count": 360,
     "metadata": {},
     "output_type": "execute_result"
    }
   ],
   "source": [
    "tags = \"\\B@\\w+\"\n",
    "rt = 'RT'\n",
    "links = \"\\S*https?:\\S*\"\n",
    "break_line = \"\\n\"\n",
    "puntuaction = '[^\\w\\s]'\n",
    "\n",
    "patterns_to_delete = [tags, rt, links, break_line, puntuaction]\n",
    "patterns_to_delete"
   ]
  },
  {
   "cell_type": "code",
   "execution_count": 361,
   "metadata": {},
   "outputs": [
    {
     "data": {
      "text/html": [
       "<div>\n",
       "<style scoped>\n",
       "    .dataframe tbody tr th:only-of-type {\n",
       "        vertical-align: middle;\n",
       "    }\n",
       "\n",
       "    .dataframe tbody tr th {\n",
       "        vertical-align: top;\n",
       "    }\n",
       "\n",
       "    .dataframe thead th {\n",
       "        text-align: right;\n",
       "    }\n",
       "</style>\n",
       "<table border=\"1\" class=\"dataframe\">\n",
       "  <thead>\n",
       "    <tr style=\"text-align: right;\">\n",
       "      <th></th>\n",
       "      <th>created_at</th>\n",
       "      <th>id</th>\n",
       "      <th>text</th>\n",
       "    </tr>\n",
       "  </thead>\n",
       "  <tbody>\n",
       "    <tr>\n",
       "      <th>0</th>\n",
       "      <td>2022-05-31 18:38:41+00:00</td>\n",
       "      <td>1531706748779651072</td>\n",
       "      <td>hes the reason I got into djing humpty</td>\n",
       "    </tr>\n",
       "    <tr>\n",
       "      <th>1</th>\n",
       "      <td>2022-05-30 18:09:02+00:00</td>\n",
       "      <td>1531336899389964288</td>\n",
       "      <td>Humpty The Fraud by LTCartoons Hilarious  humor cartoon cartoons comic comics  humptydumpty genealogy heritage ancestry eggs egg funny weird strange bizarre</td>\n",
       "    </tr>\n",
       "    <tr>\n",
       "      <th>2</th>\n",
       "      <td>2022-05-30 15:49:02+00:00</td>\n",
       "      <td>1531301666154242051</td>\n",
       "      <td>Humpty The Fraud by LTCartoons Hilarious  humor cartoon cartoons comic comics  humptydumpty genealogy heritage ancestry eggs egg funny weird strange bizarre</td>\n",
       "    </tr>\n",
       "    <tr>\n",
       "      <th>3</th>\n",
       "      <td>2022-05-28 21:51:01+00:00</td>\n",
       "      <td>1530667990349500416</td>\n",
       "      <td>Humpty The Fraud by LTCartoons Hilarious  humor cartoon cartoons comic comics  humptydumpty genealogy heritage ancestry eggs egg funny weird strange bizarre</td>\n",
       "    </tr>\n",
       "    <tr>\n",
       "      <th>4</th>\n",
       "      <td>2022-05-26 00:27:01+00:00</td>\n",
       "      <td>1529620085387698179</td>\n",
       "      <td>Humpty The Fraud by LTCartoons Hilarious  humor cartoon cartoons comic comics  humptydumpty genealogy heritage ancestry eggs egg funny weird strange bizarre</td>\n",
       "    </tr>\n",
       "  </tbody>\n",
       "</table>\n",
       "</div>"
      ],
      "text/plain": [
       "                 created_at                   id  \\\n",
       "0 2022-05-31 18:38:41+00:00  1531706748779651072   \n",
       "1 2022-05-30 18:09:02+00:00  1531336899389964288   \n",
       "2 2022-05-30 15:49:02+00:00  1531301666154242051   \n",
       "3 2022-05-28 21:51:01+00:00  1530667990349500416   \n",
       "4 2022-05-26 00:27:01+00:00  1529620085387698179   \n",
       "\n",
       "                                                                                                                                                            text  \n",
       "0                                                                                                                         hes the reason I got into djing humpty  \n",
       "1  Humpty The Fraud by LTCartoons Hilarious  humor cartoon cartoons comic comics  humptydumpty genealogy heritage ancestry eggs egg funny weird strange bizarre   \n",
       "2  Humpty The Fraud by LTCartoons Hilarious  humor cartoon cartoons comic comics  humptydumpty genealogy heritage ancestry eggs egg funny weird strange bizarre   \n",
       "3  Humpty The Fraud by LTCartoons Hilarious  humor cartoon cartoons comic comics  humptydumpty genealogy heritage ancestry eggs egg funny weird strange bizarre   \n",
       "4  Humpty The Fraud by LTCartoons Hilarious  humor cartoon cartoons comic comics  humptydumpty genealogy heritage ancestry eggs egg funny weird strange bizarre   "
      ]
     },
     "execution_count": 361,
     "metadata": {},
     "output_type": "execute_result"
    }
   ],
   "source": [
    "for pattern in patterns_to_delete:\n",
    "    depp_tweets['text'] = depp_tweets['text'].str.replace(pattern, '', regex=True)\n",
    "\n",
    "depp_tweets"
   ]
  },
  {
   "cell_type": "markdown",
   "metadata": {},
   "source": [
    "Removing stop words"
   ]
  },
  {
   "cell_type": "code",
   "execution_count": 362,
   "metadata": {},
   "outputs": [
    {
     "name": "stderr",
     "output_type": "stream",
     "text": [
      "[nltk_data] Downloading package stopwords to\n",
      "[nltk_data]     /Users/gonzalozabala/nltk_data...\n",
      "[nltk_data]   Package stopwords is already up-to-date!\n"
     ]
    },
    {
     "data": {
      "text/html": [
       "<div>\n",
       "<style scoped>\n",
       "    .dataframe tbody tr th:only-of-type {\n",
       "        vertical-align: middle;\n",
       "    }\n",
       "\n",
       "    .dataframe tbody tr th {\n",
       "        vertical-align: top;\n",
       "    }\n",
       "\n",
       "    .dataframe thead th {\n",
       "        text-align: right;\n",
       "    }\n",
       "</style>\n",
       "<table border=\"1\" class=\"dataframe\">\n",
       "  <thead>\n",
       "    <tr style=\"text-align: right;\">\n",
       "      <th></th>\n",
       "      <th>created_at</th>\n",
       "      <th>id</th>\n",
       "      <th>text</th>\n",
       "    </tr>\n",
       "  </thead>\n",
       "  <tbody>\n",
       "    <tr>\n",
       "      <th>0</th>\n",
       "      <td>2022-05-31 18:38:41+00:00</td>\n",
       "      <td>1531706748779651072</td>\n",
       "      <td>hes reason I got djing humpty</td>\n",
       "    </tr>\n",
       "    <tr>\n",
       "      <th>1</th>\n",
       "      <td>2022-05-30 18:09:02+00:00</td>\n",
       "      <td>1531336899389964288</td>\n",
       "      <td>Humpty The Fraud LTCartoons Hilarious humor cartoon cartoons comic comics humptydumpty genealogy heritage ancestry eggs egg funny weird strange bizarre</td>\n",
       "    </tr>\n",
       "    <tr>\n",
       "      <th>2</th>\n",
       "      <td>2022-05-30 15:49:02+00:00</td>\n",
       "      <td>1531301666154242051</td>\n",
       "      <td>Humpty The Fraud LTCartoons Hilarious humor cartoon cartoons comic comics humptydumpty genealogy heritage ancestry eggs egg funny weird strange bizarre</td>\n",
       "    </tr>\n",
       "    <tr>\n",
       "      <th>3</th>\n",
       "      <td>2022-05-28 21:51:01+00:00</td>\n",
       "      <td>1530667990349500416</td>\n",
       "      <td>Humpty The Fraud LTCartoons Hilarious humor cartoon cartoons comic comics humptydumpty genealogy heritage ancestry eggs egg funny weird strange bizarre</td>\n",
       "    </tr>\n",
       "    <tr>\n",
       "      <th>4</th>\n",
       "      <td>2022-05-26 00:27:01+00:00</td>\n",
       "      <td>1529620085387698179</td>\n",
       "      <td>Humpty The Fraud LTCartoons Hilarious humor cartoon cartoons comic comics humptydumpty genealogy heritage ancestry eggs egg funny weird strange bizarre</td>\n",
       "    </tr>\n",
       "  </tbody>\n",
       "</table>\n",
       "</div>"
      ],
      "text/plain": [
       "                 created_at                   id  \\\n",
       "0 2022-05-31 18:38:41+00:00  1531706748779651072   \n",
       "1 2022-05-30 18:09:02+00:00  1531336899389964288   \n",
       "2 2022-05-30 15:49:02+00:00  1531301666154242051   \n",
       "3 2022-05-28 21:51:01+00:00  1530667990349500416   \n",
       "4 2022-05-26 00:27:01+00:00  1529620085387698179   \n",
       "\n",
       "                                                                                                                                                      text  \n",
       "0                                                                                                                            hes reason I got djing humpty  \n",
       "1  Humpty The Fraud LTCartoons Hilarious humor cartoon cartoons comic comics humptydumpty genealogy heritage ancestry eggs egg funny weird strange bizarre  \n",
       "2  Humpty The Fraud LTCartoons Hilarious humor cartoon cartoons comic comics humptydumpty genealogy heritage ancestry eggs egg funny weird strange bizarre  \n",
       "3  Humpty The Fraud LTCartoons Hilarious humor cartoon cartoons comic comics humptydumpty genealogy heritage ancestry eggs egg funny weird strange bizarre  \n",
       "4  Humpty The Fraud LTCartoons Hilarious humor cartoon cartoons comic comics humptydumpty genealogy heritage ancestry eggs egg funny weird strange bizarre  "
      ]
     },
     "execution_count": 362,
     "metadata": {},
     "output_type": "execute_result"
    }
   ],
   "source": [
    "from nltk.corpus import stopwords\n",
    "nltk.download('stopwords')\n",
    "stopwords_set = set(stopwords.words(\"english\"))\n",
    "cleaned_tweets = []\n",
    "\n",
    "for index, row in depp_tweets.iterrows():\n",
    "    \n",
    "    # filerting out all the stopwords \n",
    "    words_without_stopwords = [word for word in row.text.split() if not word in stopwords_set]\n",
    "    \n",
    "    # finally creating tweets list of tuples containing stopwords(list) and sentimentType \n",
    "    cleaned_tweets.append(' '.join(words_without_stopwords))\n",
    "\n",
    "depp_tweets['text'] = cleaned_tweets\n",
    "depp_tweets"
   ]
  },
  {
   "cell_type": "markdown",
   "metadata": {},
   "source": [
    "Tokenization and lemmatization:"
   ]
  },
  {
   "cell_type": "code",
   "execution_count": 363,
   "metadata": {},
   "outputs": [
    {
     "data": {
      "text/html": [
       "<div>\n",
       "<style scoped>\n",
       "    .dataframe tbody tr th:only-of-type {\n",
       "        vertical-align: middle;\n",
       "    }\n",
       "\n",
       "    .dataframe tbody tr th {\n",
       "        vertical-align: top;\n",
       "    }\n",
       "\n",
       "    .dataframe thead th {\n",
       "        text-align: right;\n",
       "    }\n",
       "</style>\n",
       "<table border=\"1\" class=\"dataframe\">\n",
       "  <thead>\n",
       "    <tr style=\"text-align: right;\">\n",
       "      <th></th>\n",
       "      <th>created_at</th>\n",
       "      <th>id</th>\n",
       "      <th>text</th>\n",
       "    </tr>\n",
       "  </thead>\n",
       "  <tbody>\n",
       "    <tr>\n",
       "      <th>0</th>\n",
       "      <td>2022-05-31 18:38:41+00:00</td>\n",
       "      <td>1531706748779651072</td>\n",
       "      <td>he reason I got djing humpty</td>\n",
       "    </tr>\n",
       "    <tr>\n",
       "      <th>1</th>\n",
       "      <td>2022-05-30 18:09:02+00:00</td>\n",
       "      <td>1531336899389964288</td>\n",
       "      <td>Humpty The Fraud LTCartoons Hilarious humor cartoon cartoon comic comic humptydumpty genealogy heritage ancestry egg egg funny weird strange bizarre</td>\n",
       "    </tr>\n",
       "    <tr>\n",
       "      <th>2</th>\n",
       "      <td>2022-05-30 15:49:02+00:00</td>\n",
       "      <td>1531301666154242051</td>\n",
       "      <td>Humpty The Fraud LTCartoons Hilarious humor cartoon cartoon comic comic humptydumpty genealogy heritage ancestry egg egg funny weird strange bizarre</td>\n",
       "    </tr>\n",
       "    <tr>\n",
       "      <th>3</th>\n",
       "      <td>2022-05-28 21:51:01+00:00</td>\n",
       "      <td>1530667990349500416</td>\n",
       "      <td>Humpty The Fraud LTCartoons Hilarious humor cartoon cartoon comic comic humptydumpty genealogy heritage ancestry egg egg funny weird strange bizarre</td>\n",
       "    </tr>\n",
       "    <tr>\n",
       "      <th>4</th>\n",
       "      <td>2022-05-26 00:27:01+00:00</td>\n",
       "      <td>1529620085387698179</td>\n",
       "      <td>Humpty The Fraud LTCartoons Hilarious humor cartoon cartoon comic comic humptydumpty genealogy heritage ancestry egg egg funny weird strange bizarre</td>\n",
       "    </tr>\n",
       "  </tbody>\n",
       "</table>\n",
       "</div>"
      ],
      "text/plain": [
       "                 created_at                   id  \\\n",
       "0 2022-05-31 18:38:41+00:00  1531706748779651072   \n",
       "1 2022-05-30 18:09:02+00:00  1531336899389964288   \n",
       "2 2022-05-30 15:49:02+00:00  1531301666154242051   \n",
       "3 2022-05-28 21:51:01+00:00  1530667990349500416   \n",
       "4 2022-05-26 00:27:01+00:00  1529620085387698179   \n",
       "\n",
       "                                                                                                                                                   text  \n",
       "0                                                                                                                          he reason I got djing humpty  \n",
       "1  Humpty The Fraud LTCartoons Hilarious humor cartoon cartoon comic comic humptydumpty genealogy heritage ancestry egg egg funny weird strange bizarre  \n",
       "2  Humpty The Fraud LTCartoons Hilarious humor cartoon cartoon comic comic humptydumpty genealogy heritage ancestry egg egg funny weird strange bizarre  \n",
       "3  Humpty The Fraud LTCartoons Hilarious humor cartoon cartoon comic comic humptydumpty genealogy heritage ancestry egg egg funny weird strange bizarre  \n",
       "4  Humpty The Fraud LTCartoons Hilarious humor cartoon cartoon comic comic humptydumpty genealogy heritage ancestry egg egg funny weird strange bizarre  "
      ]
     },
     "execution_count": 363,
     "metadata": {},
     "output_type": "execute_result"
    }
   ],
   "source": [
    "from nltk.stem import WordNetLemmatizer\n",
    "# Tokenization\n",
    "tokenized_tweet = depp_tweets['text'].apply(lambda x: x.split())\n",
    "# Finding Lemma for each word\n",
    "word_lemmatizer = WordNetLemmatizer()\n",
    "tokenized_tweet = tokenized_tweet.apply(lambda x: [word_lemmatizer.lemmatize(i) for i in x])\n",
    "#joining words into sentences (from where they came from)\n",
    "for i, tokens in enumerate(tokenized_tweet):\n",
    "    tokenized_tweet[i] = ' '.join(tokens)\n",
    "\n",
    "depp_tweets['text'] = tokenized_tweet\n",
    "depp_tweets"
   ]
  },
  {
   "cell_type": "markdown",
   "metadata": {},
   "source": [
    "### Visualization"
   ]
  },
  {
   "cell_type": "markdown",
   "metadata": {},
   "source": [
    "Wordcloud"
   ]
  },
  {
   "cell_type": "code",
   "execution_count": 367,
   "metadata": {},
   "outputs": [],
   "source": [
    "text = \" \".join(review for review in depp_tweets.text.astype(str))"
   ]
  },
  {
   "cell_type": "code",
   "execution_count": 368,
   "metadata": {},
   "outputs": [],
   "source": [
    "wordcloud = WordCloud(background_color=\"white\", width=800, height=400).generate(text)"
   ]
  },
  {
   "cell_type": "code",
   "execution_count": null,
   "metadata": {},
   "outputs": [],
   "source": [
    "plt.axis(\"off\")\n",
    "\n",
    "plt.figure( figsize=(40,20))\n",
    "\n",
    "plt.tight_layout(pad=0)\n",
    "\n",
    "plt.imshow(wordcloud, interpolation='bilinear')"
   ]
  },
  {
   "cell_type": "markdown",
   "metadata": {},
   "source": [
    "### Model"
   ]
  },
  {
   "cell_type": "code",
   "execution_count": 364,
   "metadata": {},
   "outputs": [],
   "source": [
    "\n",
    "\n",
    "def fetch_sentiment_using_SIA(text):\n",
    "    sid = SentimentIntensityAnalyzer()\n",
    "    polarity_scores = sid.polarity_scores(text)\n",
    "    if polarity_scores['neg'] > polarity_scores['pos']:\n",
    "        return 'negative'\n",
    "    else:\n",
    "        return 'positive'\n",
    "\n",
    "def fetch_sentiment_using_textblob(text):\n",
    "    analysis = TextBlob(text)\n",
    "    # set sentiment \n",
    "    if analysis.sentiment.polarity >= 0:\n",
    "        return 'positive'\n",
    "    else: \n",
    "        return 'negative'"
   ]
  },
  {
   "cell_type": "code",
   "execution_count": 365,
   "metadata": {},
   "outputs": [
    {
     "data": {
      "text/plain": [
       "['positive', 'positive', 'positive', 'positive', 'positive']"
      ]
     },
     "execution_count": 365,
     "metadata": {},
     "output_type": "execute_result"
    }
   ],
   "source": [
    "sentiments_nltk = []\n",
    "for index, row in depp_tweets.iterrows():\n",
    "    sentiments_nltk.append(fetch_sentiment_using_SIA(row['text'][0]))\n",
    "sentiments_nltk"
   ]
  },
  {
   "cell_type": "code",
   "execution_count": 366,
   "metadata": {},
   "outputs": [
    {
     "data": {
      "text/plain": [
       "['positive', 'positive', 'positive', 'positive', 'positive']"
      ]
     },
     "execution_count": 366,
     "metadata": {},
     "output_type": "execute_result"
    }
   ],
   "source": [
    "sentiments_nltk = []\n",
    "for index, row in depp_tweets.iterrows():\n",
    "    sentiments_nltk.append(fetch_sentiment_using_textblob(row['text'][0]))\n",
    "sentiments_nltk"
   ]
  }
 ],
 "metadata": {
  "interpreter": {
   "hash": "5a26509f1ebfbe58e5b9c0be862da0478dce684822429b8f32e207fdb3de41b0"
  },
  "kernelspec": {
   "display_name": "Python 3.7.7 ('tf')",
   "language": "python",
   "name": "python3"
  },
  "language_info": {
   "codemirror_mode": {
    "name": "ipython",
    "version": 3
   },
   "file_extension": ".py",
   "mimetype": "text/x-python",
   "name": "python",
   "nbconvert_exporter": "python",
   "pygments_lexer": "ipython3",
   "version": "3.7.7"
  },
  "orig_nbformat": 4
 },
 "nbformat": 4,
 "nbformat_minor": 2
}
